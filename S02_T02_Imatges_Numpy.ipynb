{
 "cells": [
  {
   "cell_type": "markdown",
   "id": "10c41444",
   "metadata": {},
   "source": [
    "# S02_T02_Estructura_d'una_Matriu\n",
    "\n",
    "### Ex1: Crear un np.array d'una dimensió, que inclogui almenys 8 nombres sencers, data type int64. Mostra la dimensió i la forma de la matriu"
   ]
  },
  {
   "cell_type": "code",
   "execution_count": 1,
   "id": "fb9139dd",
   "metadata": {
    "ExecuteTime": {
     "end_time": "2022-02-17T12:25:13.112831Z",
     "start_time": "2022-02-17T12:25:09.658120Z"
    }
   },
   "outputs": [],
   "source": [
    "import numpy as np"
   ]
  },
  {
   "cell_type": "code",
   "execution_count": 9,
   "id": "cef22028",
   "metadata": {
    "ExecuteTime": {
     "end_time": "2022-02-17T12:58:35.615441Z",
     "start_time": "2022-02-17T12:58:35.596519Z"
    }
   },
   "outputs": [
    {
     "name": "stdout",
     "output_type": "stream",
     "text": [
      "[ 2  4  6  8 10 12 14 16 18 20]\n",
      "<class 'numpy.ndarray'>\n",
      "int64\n",
      "Array dimension is: 1\n",
      "Array Shape:  (10,)\n"
     ]
    }
   ],
   "source": [
    "arr_1D = np.array([2, 4, 6, 8, 10, 12, 14, 16, 18, 20], dtype='int64')\n",
    "print(arr_1D)\n",
    "print(type(arr_1D))\n",
    "print(arr_1D.dtype)\n",
    "print('Array dimension is:', arr_1D.ndim)\n",
    "print('Array Shape: ', arr_1D.shape)"
   ]
  },
  {
   "cell_type": "markdown",
   "id": "b900ec28",
   "metadata": {},
   "source": [
    "### Ex2: De la matriu anterior, calcula el valor mitjà dels valors introduïts i resta la mitjana resultant de cada un dels valors de la matriu"
   ]
  },
  {
   "cell_type": "code",
   "execution_count": 13,
   "id": "261feb72",
   "metadata": {
    "ExecuteTime": {
     "end_time": "2022-02-17T13:03:48.931880Z",
     "start_time": "2022-02-17T13:03:48.920892Z"
    }
   },
   "outputs": [
    {
     "name": "stdout",
     "output_type": "stream",
     "text": [
      "El valor mitjà és:  11.0\n"
     ]
    }
   ],
   "source": [
    "#valor mitjà: calculem la suma de tots els valors i la longitut de l'array(len())\n",
    "suma_valors=0\n",
    "for x in arr_1D:\n",
    "    suma_valors += x\n",
    "valor_mitja = (suma_valors / len(arr_1D))\n",
    "print(\"El valor mitjà és: \", valor_mitja)"
   ]
  },
  {
   "cell_type": "code",
   "execution_count": 16,
   "id": "fd393f84",
   "metadata": {
    "ExecuteTime": {
     "end_time": "2022-02-17T13:18:53.768922Z",
     "start_time": "2022-02-17T13:18:53.752965Z"
    }
   },
   "outputs": [
    {
     "name": "stdout",
     "output_type": "stream",
     "text": [
      "[-9. -7. -5. -3. -1.  1.  3.  5.  7.  9.]\n"
     ]
    }
   ],
   "source": [
    "#restem valor mitjà a cada valor de la matriu:\n",
    "\n",
    "arr_1D = arr_1D - valor_mitja\n",
    "print(arr_1D)\n"
   ]
  },
  {
   "cell_type": "markdown",
   "id": "20edf739",
   "metadata": {},
   "source": [
    "### Ex3: Crear una matriu bidimensional amb una forma de 5 x 5.Extreu el valor màxim de la matriu, i els valors màxims de cadascun dels seus eixos"
   ]
  },
  {
   "cell_type": "code",
   "execution_count": 18,
   "id": "17b6257b",
   "metadata": {
    "ExecuteTime": {
     "end_time": "2022-02-17T13:28:56.496274Z",
     "start_time": "2022-02-17T13:28:56.487299Z"
    }
   },
   "outputs": [
    {
     "name": "stdout",
     "output_type": "stream",
     "text": [
      "[[ 1  2  3  4  5]\n",
      " [ 4  5  6  7  8]\n",
      " [10 12 13 14 15]\n",
      " [14 15 16 17 18]\n",
      " [20 22 23 24 25]]\n",
      "<class 'numpy.ndarray'>\n",
      "int32\n",
      "Array dimension is: 2\n",
      "Array Shape:  (5, 5)\n"
     ]
    }
   ],
   "source": [
    "arr_2D = np.array([[1, 2, 3, 4, 5], [4, 5, 6, 7, 8], [10, 12, 13, 14, 15], [14, 15, 16, 17, 18], [20, 22, 23, 24, 25]])\n",
    "print(arr_2D)\n",
    "print(type(arr_2D))\n",
    "print(arr_2D.dtype)\n",
    "print('Array dimension is:', arr_2D.ndim)\n",
    "print('Array Shape: ', arr_2D.shape)"
   ]
  },
  {
   "cell_type": "code",
   "execution_count": 22,
   "id": "a869429a",
   "metadata": {
    "ExecuteTime": {
     "end_time": "2022-02-17T13:36:18.004185Z",
     "start_time": "2022-02-17T13:36:17.984232Z"
    }
   },
   "outputs": [
    {
     "name": "stdout",
     "output_type": "stream",
     "text": [
      "25\n",
      "[20 22 23 24 25]\n",
      "[ 5  8 15 18 25]\n"
     ]
    }
   ],
   "source": [
    "#valor Max matriu\n",
    "print(np.amax(arr_2D))\n",
    "\n",
    "#valors maxims d'eixos\n",
    "#fila\n",
    "print(np.amax(arr_2D, axis=0))\n",
    "#columnna\n",
    "print(np.amax(arr_2D, axis=1))"
   ]
  },
  {
   "cell_type": "markdown",
   "id": "487768f8",
   "metadata": {},
   "source": [
    "### Ex4: Mostrar amb exemples de diferents matrius, la regla fonamental de Broadcasting que diu: \"les matrius es poden transmetre / broadcast si les seves dimensions coincideixen o si una de les matrius té una mida de \"1\"\""
   ]
  },
  {
   "cell_type": "code",
   "execution_count": 23,
   "id": "e9cf7349",
   "metadata": {
    "ExecuteTime": {
     "end_time": "2022-02-22T21:42:24.428976Z",
     "start_time": "2022-02-22T21:42:24.417005Z"
    }
   },
   "outputs": [
    {
     "name": "stdout",
     "output_type": "stream",
     "text": [
      "[[6 3 0]\n",
      " [6 8 5]\n",
      " [9 6 4]]\n",
      "(3, 3)\n",
      "  \n",
      "[[10]\n",
      " [10]\n",
      " [10]]\n",
      "(3, 1)\n",
      "  \n",
      "[[16 13 10]\n",
      " [16 18 15]\n",
      " [19 16 14]]\n",
      " \n",
      "[[60 30  0]\n",
      " [60 80 50]\n",
      " [90 60 40]]\n"
     ]
    }
   ],
   "source": [
    "#arr1 i arr2 \n",
    "arr1 = np.array([[6, 3 ,0], [6, 8, 5], [9, 6, 4]])\n",
    "print(arr1)\n",
    "print(arr1.shape)\n",
    "print(\"  \")\n",
    "arr2 = np.array([[10], [10], [10]])\n",
    "print(arr2)\n",
    "print(arr2.shape)\n",
    "print(\"  \")\n",
    "#realitzem operacions( suma, producte,...) per comprovar si fa broadcasting bé\n",
    "print(arr1+arr2)\n",
    "print(\" \")\n",
    "print(arr1*arr2)\n",
    "\n",
    "#Observem que si fa broadcasting i es pot operar be les dues matrius degut a que en l'arr2 la segona dimensió és 1, i en la primera dimensió els dos arrays són equivalents"
   ]
  },
  {
   "cell_type": "code",
   "execution_count": 25,
   "id": "11a553df",
   "metadata": {
    "ExecuteTime": {
     "end_time": "2022-02-22T21:47:15.496921Z",
     "start_time": "2022-02-22T21:47:15.468027Z"
    }
   },
   "outputs": [
    {
     "name": "stdout",
     "output_type": "stream",
     "text": [
      "[[6 3 0]\n",
      " [6 8 5]\n",
      " [9 6 4]]\n",
      "(3, 3)\n",
      "  \n",
      "[[10 20]\n",
      " [10 40]\n",
      " [10 60]]\n",
      "(3, 2)\n",
      "  \n"
     ]
    },
    {
     "ename": "ValueError",
     "evalue": "operands could not be broadcast together with shapes (3,3) (3,2) ",
     "output_type": "error",
     "traceback": [
      "\u001b[1;31m---------------------------------------------------------------------------\u001b[0m",
      "\u001b[1;31mValueError\u001b[0m                                Traceback (most recent call last)",
      "\u001b[1;32m~\\AppData\\Local\\Temp/ipykernel_15316/2232088396.py\u001b[0m in \u001b[0;36m<module>\u001b[1;34m\u001b[0m\n\u001b[0;32m      9\u001b[0m \u001b[0mprint\u001b[0m\u001b[1;33m(\u001b[0m\u001b[1;34m\"  \"\u001b[0m\u001b[1;33m)\u001b[0m\u001b[1;33m\u001b[0m\u001b[1;33m\u001b[0m\u001b[0m\n\u001b[0;32m     10\u001b[0m \u001b[1;31m#realitzem operacions( suma, producte,...) per comprovar si fa broadcasting bé\u001b[0m\u001b[1;33m\u001b[0m\u001b[1;33m\u001b[0m\u001b[0m\n\u001b[1;32m---> 11\u001b[1;33m \u001b[0mprint\u001b[0m\u001b[1;33m(\u001b[0m\u001b[0marr1\u001b[0m\u001b[1;33m+\u001b[0m\u001b[0marr3\u001b[0m\u001b[1;33m)\u001b[0m\u001b[1;33m\u001b[0m\u001b[1;33m\u001b[0m\u001b[0m\n\u001b[0m\u001b[0;32m     12\u001b[0m \u001b[0mprint\u001b[0m\u001b[1;33m(\u001b[0m\u001b[1;34m\" \"\u001b[0m\u001b[1;33m)\u001b[0m\u001b[1;33m\u001b[0m\u001b[1;33m\u001b[0m\u001b[0m\n\u001b[0;32m     13\u001b[0m \u001b[0mprint\u001b[0m\u001b[1;33m(\u001b[0m\u001b[0marr1\u001b[0m\u001b[1;33m*\u001b[0m\u001b[0marr3\u001b[0m\u001b[1;33m)\u001b[0m\u001b[1;33m\u001b[0m\u001b[1;33m\u001b[0m\u001b[0m\n",
      "\u001b[1;31mValueError\u001b[0m: operands could not be broadcast together with shapes (3,3) (3,2) "
     ]
    }
   ],
   "source": [
    "#arr1 i arr3 \n",
    "arr1 = np.array([[6, 3 ,0], [6, 8, 5], [9, 6, 4]])\n",
    "print(arr1)\n",
    "print(arr1.shape)\n",
    "print(\"  \")\n",
    "arr3 = np.array([[10,20], [10, 40], [10, 60]])\n",
    "print(arr3)\n",
    "print(arr3.shape)\n",
    "print(\"  \")\n",
    "#realitzem operacions( suma, producte,...) per comprovar si fa broadcasting bé\n",
    "print(arr1+arr3)\n",
    "print(\" \")\n",
    "print(arr1*arr3)\n",
    "\n",
    "#Observem que ens dona un error dient-nos que no es pot fer el broadcasting degut a les diferents shapes\n",
    "#no són equivalents i cap d'elles és 1\n",
    "#ValueError: operands could not be broadcast together with shapes (3,3) (3,2)"
   ]
  },
  {
   "cell_type": "markdown",
   "id": "bdd09c68",
   "metadata": {},
   "source": [
    "### Ex5: Utilitzar la indexació per extreure els valors d'una columna i una fila de la matriu, i suma els seus valors"
   ]
  },
  {
   "cell_type": "code",
   "execution_count": 2,
   "id": "764264dc",
   "metadata": {
    "ExecuteTime": {
     "end_time": "2022-02-22T19:48:13.040304Z",
     "start_time": "2022-02-22T19:48:09.874067Z"
    }
   },
   "outputs": [
    {
     "name": "stdout",
     "output_type": "stream",
     "text": [
      "[ 3  6 13 16 23]\n",
      "[4 5 6 7 8]\n",
      "La suma dels valors de la 2ª fila és: 30\n",
      "La suma dels valors de la 3ª columna és: 61\n"
     ]
    }
   ],
   "source": [
    "import numpy as np \n",
    "arr_2D = np.array([[1, 2, 3, 4, 5], [4, 5, 6, 7, 8], [10, 12, 13, 14, 15], [14, 15, 16, 17, 18], [20, 22, 23, 24, 25]])\n",
    "#valors 3ª columna\n",
    "print(arr_2D[:, 2])\n",
    "\n",
    "#valors 2ªfila\n",
    "print(arr_2D[1])\n",
    "\n",
    "#suma valors fila\n",
    "suma_fila=0\n",
    "for x in arr_2D[1]:\n",
    "    suma_fila += x\n",
    "print (\"La suma dels valors de la 2ª fila és: \" +str(suma_fila))\n",
    "    \n",
    "#suma valors columnna\n",
    "suma_col=0\n",
    "for x in arr_2D[:, 2]:\n",
    "    suma_col += x\n",
    "print (\"La suma dels valors de la 3ª columna és: \" +str(suma_col))"
   ]
  },
  {
   "cell_type": "markdown",
   "id": "0679da78",
   "metadata": {},
   "source": [
    "### Ex6: Mask la matriu anterior, realitzar un càlcul booleà vectoritzat, agafant cada element i comprovant si es divideix uniformement per 4. Això retorna una matriu de mask de la mateixa forma amb els resultats elementals de càlcul"
   ]
  },
  {
   "cell_type": "code",
   "execution_count": 3,
   "id": "185d01e9",
   "metadata": {
    "ExecuteTime": {
     "end_time": "2022-02-22T19:52:54.792958Z",
     "start_time": "2022-02-22T19:52:54.721127Z"
    }
   },
   "outputs": [
    {
     "name": "stdout",
     "output_type": "stream",
     "text": [
      "[[False False False  True False]\n",
      " [ True False False False  True]\n",
      " [False  True False False False]\n",
      " [False False  True False False]\n",
      " [ True False False  True False]]\n"
     ]
    }
   ],
   "source": [
    "#matriu arr_2D fer una mask booleana si cada element és divisible per 4 --> True\n",
    "mask_arr = (arr_2D % 4 == 0)\n",
    "print (mask_arr)"
   ]
  },
  {
   "cell_type": "markdown",
   "id": "1723c4d3",
   "metadata": {},
   "source": [
    "### Ex7: Utilitzar la màscara per indexar la matriu de nombres original.Això fa que la matriu perdi la seva forma original, reduint-la a una dimensió, però encara obteniu les dades que esteu cercant"
   ]
  },
  {
   "cell_type": "code",
   "execution_count": 4,
   "id": "e81b4c8b",
   "metadata": {
    "ExecuteTime": {
     "end_time": "2022-02-22T21:08:02.890789Z",
     "start_time": "2022-02-22T21:08:02.871863Z"
    }
   },
   "outputs": [
    {
     "name": "stdout",
     "output_type": "stream",
     "text": [
      "[ 4  4  8 12 16 20 24]\n"
     ]
    }
   ],
   "source": [
    "print(arr_2D[mask_arr])"
   ]
  },
  {
   "cell_type": "markdown",
   "id": "2eef18f9",
   "metadata": {},
   "source": [
    "### Ex8: Manipulació d'imatges amb Matplotlib.Carregar qualsevol imatge (jpg,png,...) amb Matplotlib\n",
    "    ##### Ajut: import matplotlib.image as mpimg. Estudiar el mètode mpimg.imread()\n",
    "#### Mostrar que passa quan s'elimina el canal G Verd o B Blau. Utilitzar la indexació per seleccionar el canal q es vol anul·lar. Utilitzar el mètode mpimg.imsave() de la llibreria importada, per guardar les imatges modificades i pujar-les al repositori GitHub"
   ]
  },
  {
   "cell_type": "code",
   "execution_count": 8,
   "id": "14f50c99",
   "metadata": {
    "ExecuteTime": {
     "end_time": "2022-02-22T21:25:25.077368Z",
     "start_time": "2022-02-22T21:25:24.701827Z"
    }
   },
   "outputs": [
    {
     "name": "stdout",
     "output_type": "stream",
     "text": [
      "(178, 282, 3)\n"
     ]
    },
    {
     "data": {
      "image/png": "[encoded data removed]",
      "text/plain": [
       "<Figure size 432x288 with 1 Axes>"
      ]
     },
     "metadata": {
      "needs_background": "light"
     },
     "output_type": "display_data"
    }
   ],
   "source": [
    "import numpy as np\n",
    "import matplotlib.pyplot as plt\n",
    "import matplotlib.image as mpimg\n",
    "\n",
    "image_array = mpimg.imread(\"imatge_task.jpg\")\n",
    "print(image_array.shape)\n",
    "\n",
    "img_plot = plt.imshow(image_array)\n",
    "\n",
    "#el·liminem canal Verd (new image)\n",
    "new_image = image_array.copy()\n",
    "new_image[:, :, 1] = 0\n",
    "\n",
    "new_img_plot = plt.imshow(new_image)\n",
    "\n",
    "mpimg.imsave(\"new_image.jpg\", new_image)\n"
   ]
  },
  {
   "cell_type": "code",
   "execution_count": null,
   "id": "f1e84e90",
   "metadata": {},
   "outputs": [],
   "source": []
  }
 ],
 "metadata": {
  "kernelspec": {
   "display_name": "Python 3 (ipykernel)",
   "language": "python",
   "name": "python3"
  },
  "language_info": {
   "codemirror_mode": {
    "name": "ipython",
    "version": 3
   },
   "file_extension": ".py",
   "mimetype": "text/x-python",
   "name": "python",
   "nbconvert_exporter": "python",
   "pygments_lexer": "ipython3",
   "version": "3.9.7"
  },
  "latex_envs": {
   "LaTeX_envs_menu_present": true,
   "autoclose": false,
   "autocomplete": true,
   "bibliofile": "biblio.bib",
   "cite_by": "apalike",
   "current_citInitial": 1,
   "eqLabelWithNumbers": true,
   "eqNumInitial": 1,
   "hotkeys": {
    "equation": "Ctrl-E",
    "itemize": "Ctrl-I"
   },
   "labels_anchors": false,
   "latex_user_defs": false,
   "report_style_numbering": false,
   "user_envs_cfg": false
  }
 },
 "nbformat": 4,
 "nbformat_minor": 5
}
